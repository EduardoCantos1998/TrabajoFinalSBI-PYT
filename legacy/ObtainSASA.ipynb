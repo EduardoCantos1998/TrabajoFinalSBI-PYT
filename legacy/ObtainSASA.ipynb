{
 "cells": [
  {
   "cell_type": "code",
   "execution_count": 13,
   "id": "157d9535-9452-407a-b6ac-050f660ca207",
   "metadata": {},
   "outputs": [],
   "source": [
    "import Bio.PDB as PDB\n",
    "import os\n",
    "import math"
   ]
  },
  {
   "cell_type": "code",
   "execution_count": 5,
   "id": "91d8bc39-1820-4ad4-9f3f-825c3c10c422",
   "metadata": {},
   "outputs": [],
   "source": [
    "files = {}\n",
    "for i in os.listdir(\"PDB\"):\n",
    "    files[i.split(\".\")[0]] = f\"PDB/{i}\""
   ]
  },
  {
   "cell_type": "code",
   "execution_count": 32,
   "id": "1a78b62a-f54a-4647-a2a0-ddef583c061e",
   "metadata": {},
   "outputs": [],
   "source": [
    "coordinates = {}\n",
    "for i in files:\n",
    "    with open(files[i], \"r\") as pdb:\n",
    "        coords = []\n",
    "        for line in pdb:\n",
    "            if line.startswith(\"ATOM\"):\n",
    "                x = line[31:38].strip()\n",
    "                y = line[39:46].strip()\n",
    "                z = line[47:54].strip()\n",
    "                if x and y and z:\n",
    "                    coords.append((float(x), float(y), float(z), line))\n",
    "        coordinates[i] = coords"
   ]
  },
  {
   "cell_type": "code",
   "execution_count": 33,
   "id": "4509effc-2126-4373-bb6b-06c29cbb90c5",
   "metadata": {},
   "outputs": [],
   "source": [
    "def calculate_sasa(coordinates):\n",
    "    # Define the probe radius (in angstroms) to use in the Shrake-Rupley algorithm\n",
    "    probe_radius = 1.4\n",
    "\n",
    "    # Define a function to calculate the distance between two points in 3D space\n",
    "    def distance(p1, p2):\n",
    "        return math.sqrt((p1[0]-p2[0])**2 + (p1[1]-p2[1])**2 + (p1[2]-p2[2])**2)\n",
    "\n",
    "    # Define a function to calculate the surface area of a single atom\n",
    "    def atom_sasa(coords, atom_idx):\n",
    "        atom_coord = coords[atom_idx]\n",
    "        sasa = 0\n",
    "        for i in range(len(coords)):\n",
    "            if i != atom_idx:\n",
    "                d = distance(atom_coord, coords[i])\n",
    "                if d < 2*probe_radius:\n",
    "                    sasa += (1 - d/probe_radius/2 + (d/probe_radius/2)**3)*4*math.pi*probe_radius**2\n",
    "        return sasa\n",
    "\n",
    "    # Define a function to calculate the solvent-accessible surface area of each atom in a protein\n",
    "    def sasa(coords):\n",
    "        sasa_list = []\n",
    "        for i in range(len(coords)):\n",
    "            sasa_list.append(atom_sasa(coords, i))\n",
    "        return sasa_list\n",
    "\n",
    "    # Define a dictionary to store the solvent-accessible atoms for each protein\n",
    "    sasa_dict = {}\n",
    "\n",
    "    # Loop through all the keys (protein names) in the \"coordinates\" dictionary\n",
    "    for key in coordinates:\n",
    "        coords = coordinates[key]\n",
    "        sasa_list = sasa(coords)\n",
    "        sasa_atoms = []\n",
    "        for i in range(len(sasa_list)):\n",
    "            if sasa_list[i] > 0:\n",
    "                sasa_atoms.append((coords[i][0], coords[i][1], coords[i][2]))\n",
    "        sasa_dict[key] = sasa_atoms\n",
    "\n",
    "    # Return the dictionary of solvent-accessible atoms for each protein\n",
    "    return sasa_dict"
   ]
  },
  {
   "cell_type": "code",
   "execution_count": 35,
   "id": "05d03ea4-b589-4a36-ab0d-b36ccf9bc954",
   "metadata": {},
   "outputs": [],
   "source": [
    "def simple_calculate_sasa(coordinates):\n",
    "    # Define the probe radius (in angstroms) to use in the Shrake-Rupley algorithm\n",
    "    probe_radius = 1.4\n",
    "\n",
    "    # Define a function to calculate the distance between two points in 3D space\n",
    "    def distance(p1, p2):\n",
    "        return math.sqrt((p1[0]-p2[0])**2 + (p1[1]-p2[1])**2 + (p1[2]-p2[2])**2)\n",
    "\n",
    "    # Define a function to calculate the surface area of a single atom\n",
    "    def atom_sasa(coords, atom_idx):\n",
    "        atom_coord = coords[atom_idx]\n",
    "        sasa = 0\n",
    "        for i in range(len(coords)):\n",
    "            if i != atom_idx:\n",
    "                d = distance(atom_coord, coords[i])\n",
    "                if d < 2*probe_radius:\n",
    "                    sasa += (1 - d/probe_radius/2 + (d/probe_radius/2)**3)*4*math.pi*probe_radius**2\n",
    "        return sasa\n",
    "\n",
    "    # Define a function to calculate the solvent-accessible surface area of each atom in a protein\n",
    "    def sasa(coords):\n",
    "        sasa_list = []\n",
    "        for i in range(len(coords)):\n",
    "            sasa_list.append(atom_sasa(coords, i))\n",
    "        return sasa_list\n",
    "\n",
    "    # Calculate the SASA for the given coordinates\n",
    "    sasa_list = sasa(coordinates)\n",
    "    sasa_atoms = []\n",
    "    for i in range(len(sasa_list)):\n",
    "        if sasa_list[i] > 0:\n",
    "            sasa_atoms.append(coordinates[i])\n",
    "\n",
    "    # Return the list of solvent-accessible atoms for the protein\n",
    "    return sasa_atoms\n"
   ]
  },
  {
   "cell_type": "code",
   "execution_count": 50,
   "id": "6f82a28e-dd80-430a-bac0-0f4384bf4863",
   "metadata": {},
   "outputs": [],
   "source": [
    "with open(\"test.pdb\", \"a\") as file:\n",
    "    atoms = simple_calculate_sasa(coordinates['6URC'])\n",
    "    for i in atoms:\n",
    "        line = i[3]\n",
    "        file.write(f\"{line}\")"
   ]
  },
  {
   "cell_type": "code",
   "execution_count": 29,
   "id": "d261bef7-61f6-4edc-aaf1-2f49cd4d74ea",
   "metadata": {},
   "outputs": [
    {
     "data": {
      "text/plain": [
       "dict_keys(['6URC', '2O8M', '4OVN', '1XCT', '6W39', '2N5S', '1IVO', '1NB7', '4UIP', '2EB3', '4JU7', '6DI0', '5FBO', '5HGI', '3KQU', '4R3P', '4OTF', '5WB7', '1K2P', '4JTW', '5TRJ', '7R60', '6DI1', '1NB4', '4OK3', '3FQQ', '2KAV', '5J9Z', '1P9M', '6S9C', '1ZH1', '4JJS', '5WB8', '4OKS', '5VFI', '3QGF', '4NI9', '2IL6', '5PZM', '4YHF', '4A92', '6NFH', '6S9B', '4TY8', '4GMC', '3KQH', '1RGQ', '3W2P', '4R3R', '6LUD', '6XE4', '4JU1', '6KPC', '3W2O', '2DXS', '3GNV', '6MVO', '1XCQ', '6AUB', '6S8A', '6SHC', '5ZZ4', '4OK5', '5PZK', '4KRO', '7KXP', '4J4L', '6HV0', '2XNI', '6W3A', '5PZN', '7KXO', '3B2V', '6BIK', '3KEE', '6DI9', '6JXT', '3Q0Z', '6W3K', '7KXN', '5TGZ', '3QGD', '1IL6', '5KUP', '7KXM', '4JU4', '6KPF', '7BMK', '3KQL', '4IZ0', '4JVQ', '2ITU', '6MNY', '4OOW', '6NFI', '4NI7', '5TRK', '6X3N', '6O8I', '3KQN', '2P59', '6JWL', '4LI5', '3BEL', '6S9D', '6BKW', '4Z7H', '3FRZ', '2ITZ', '4J08', '3MWV', '2ITV', '4ZLZ', '4NLD', '5Y25', '2XHU', '3QWQ', '5TWN', '3KQK', '3OCS', '5FBN', '4OJQ', '6BKE', '4J0A', '7KXQ', '3GNW', '5TRH', '5X27', '2Z0P', '1Z9I', '3W2R', '7LTY', '7KXL', '5VGO', '4J04', '5E4F', '5TRI', '6AUA', '4B75', '3P08', '2ITT', '6X3P', '6W3C', '7LTZ', '6JRK', '2OIN', '3FQM', '5X26', '2XHW', '6MUD', '6DI5', '4UV7', '7OXB', '4CNI', '4OK6', '4O9H', '4JU2', '2RGP', '1HEI', '7R61', '4J02', '6BKH', '4YZ9', '6XDF', '4K8B', '5PZP', '4J06', '4TY9', '5XR8', '4ZLY', '6YYG', '6W3B', '3FQL', '3GOL', '5J87', '6X3O', '6N9P', '4NWM', '5ZTY', '6W3E', '3W2Q', '3QGG', '4UOI', '4JTY', '4JU3', '2XCN', '4Z7G', '3QGE', '6OMU', '4I21', '3MWW', '4TLR', '4ZS7', '6PT0', '2KBI', '5GNK', '6HX1', '1MOX', '1CWX', '4RX5', '5X28', '1RTL', '6S90', '3RVB', '5U9D', '3CSO', '6DI3', '6MVP', '4JU6', '6XDD', '4JJU', '5XRA', '4JTZ', '5PZL', '1XF5', '4JQ0', '1NB6', '1QLY', '4YZD', '5XYZ', '6LUB', '6BLN', '6S89', '4JY1', '4YZC', '3HKY', '4TN2', '6LQA', '4DCK', '6HTF', '4JY0'])"
      ]
     },
     "execution_count": 29,
     "metadata": {},
     "output_type": "execute_result"
    }
   ],
   "source": [
    "coordinates.keys()"
   ]
  }
 ],
 "metadata": {
  "kernelspec": {
   "display_name": "base",
   "language": "python",
   "name": "base"
  },
  "language_info": {
   "codemirror_mode": {
    "name": "ipython",
    "version": 3
   },
   "file_extension": ".py",
   "mimetype": "text/x-python",
   "name": "python",
   "nbconvert_exporter": "python",
   "pygments_lexer": "ipython3",
   "version": "3.10.8"
  }
 },
 "nbformat": 4,
 "nbformat_minor": 5
}
